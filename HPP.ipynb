{
  "nbformat": 4,
  "nbformat_minor": 0,
  "metadata": {
    "colab": {
      "private_outputs": true,
      "provenance": [],
      "authorship_tag": "ABX9TyNDYsHSZ0kF4j5qyKDEsCn/",
      "include_colab_link": true
    },
    "kernelspec": {
      "name": "python3",
      "display_name": "Python 3"
    },
    "language_info": {
      "name": "python"
    }
  },
  "cells": [
    {
      "cell_type": "markdown",
      "metadata": {
        "id": "view-in-github",
        "colab_type": "text"
      },
      "source": [
        "<a href=\"https://colab.research.google.com/github/yoga-pasumani/House-Prediction/blob/yoga-pasumani-patch-1/HPP.ipynb\" target=\"_parent\"><img src=\"https://colab.research.google.com/assets/colab-badge.svg\" alt=\"Open In Colab\"/></a>"
      ]
    },
    {
      "cell_type": "code",
      "execution_count": null,
      "metadata": {
        "id": "H40JM2lQtw1B"
      },
      "outputs": [],
      "source": [
        "import pandas as pd\n",
        "import numpy as np\n",
        "import seaborn as sns\n",
        "import matplotlib.pyplot as plt\n"
      ]
    },
    {
      "cell_type": "code",
      "source": [
        "data = pd.read_csv('/content/Housing - Housing.csv')\n",
        "data"
      ],
      "metadata": {
        "id": "gNScTyACz2KF"
      },
      "execution_count": null,
      "outputs": []
    },
    {
      "cell_type": "code",
      "source": [
        "data.head(10)"
      ],
      "metadata": {
        "id": "O16GjYGuz8Bx"
      },
      "execution_count": null,
      "outputs": []
    },
    {
      "cell_type": "code",
      "source": [
        "data.tail(15)"
      ],
      "metadata": {
        "id": "v9DlOD0d0AXN"
      },
      "execution_count": null,
      "outputs": []
    },
    {
      "cell_type": "code",
      "source": [
        "data.info()"
      ],
      "metadata": {
        "id": "rApxqTXH0EPd"
      },
      "execution_count": null,
      "outputs": []
    },
    {
      "cell_type": "code",
      "source": [
        "data.describe()"
      ],
      "metadata": {
        "id": "LD4Ac2Oc0H42"
      },
      "execution_count": null,
      "outputs": []
    },
    {
      "cell_type": "code",
      "source": [
        "data.isna().sum()"
      ],
      "metadata": {
        "id": "5Innkx9T0Kxm"
      },
      "execution_count": null,
      "outputs": []
    },
    {
      "cell_type": "code",
      "source": [
        " data\n"
      ],
      "metadata": {
        "id": "k5j9sWNc0XpN"
      },
      "execution_count": null,
      "outputs": []
    },
    {
      "cell_type": "code",
      "source": [
        "lst =['mainroad','guestroom','basement','hotwaterheating','airconditioning','prefarea']"
      ],
      "metadata": {
        "id": "88ihsZCf1DBa"
      },
      "execution_count": null,
      "outputs": []
    },
    {
      "cell_type": "code",
      "source": [
        "data[lst]=data[lst].replace({'yes':1,'no':0})"
      ],
      "metadata": {
        "id": "9J7NElTW1dbM"
      },
      "execution_count": null,
      "outputs": []
    },
    {
      "cell_type": "code",
      "source": [
        "data.head()"
      ],
      "metadata": {
        "id": "TcPL66bH1sKZ"
      },
      "execution_count": null,
      "outputs": []
    },
    {
      "cell_type": "code",
      "source": [
        "data['furnishingstatus'] = data['furnishingstatus'].replace({'furnished':0,'semi-furnished':1,'unfurnished':2})"
      ],
      "metadata": {
        "id": "8u6USIQy1ufb"
      },
      "execution_count": null,
      "outputs": []
    },
    {
      "cell_type": "code",
      "source": [
        "data.head()"
      ],
      "metadata": {
        "id": "YWZuz_LA2fAD"
      },
      "execution_count": null,
      "outputs": []
    },
    {
      "cell_type": "code",
      "source": [
        "from sklearn.preprocessing import StandardScaler"
      ],
      "metadata": {
        "id": "1wM6gYdT2lNl"
      },
      "execution_count": null,
      "outputs": []
    },
    {
      "cell_type": "code",
      "source": [
        "hey = StandardScaler()"
      ],
      "metadata": {
        "id": "sPDWKj6i2zsO"
      },
      "execution_count": null,
      "outputs": []
    },
    {
      "cell_type": "code",
      "source": [
        "lst2 =['price','area']"
      ],
      "metadata": {
        "id": "du5VrZen22yU"
      },
      "execution_count": null,
      "outputs": []
    },
    {
      "cell_type": "code",
      "source": [
        "data[lst2]=hey.fit_transform(data[lst2])"
      ],
      "metadata": {
        "id": "rmP6esed2-ns"
      },
      "execution_count": null,
      "outputs": []
    },
    {
      "cell_type": "code",
      "source": [
        "data.head()"
      ],
      "metadata": {
        "id": "UBfSPY1h3Byz"
      },
      "execution_count": null,
      "outputs": []
    },
    {
      "cell_type": "code",
      "source": [
        "data.dtypes"
      ],
      "metadata": {
        "id": "IBR6kROI3WXl"
      },
      "execution_count": null,
      "outputs": []
    },
    {
      "cell_type": "code",
      "source": [
        "data.nunique()"
      ],
      "metadata": {
        "id": "ond3uKNV4DZs"
      },
      "execution_count": null,
      "outputs": []
    },
    {
      "cell_type": "code",
      "source": [
        "data.duplicated()"
      ],
      "metadata": {
        "id": "ojnfR-ot4dob"
      },
      "execution_count": null,
      "outputs": []
    },
    {
      "cell_type": "code",
      "source": [
        "df=data.corr()"
      ],
      "metadata": {
        "id": "AxT9aRzb7tz8"
      },
      "execution_count": null,
      "outputs": []
    },
    {
      "cell_type": "code",
      "source": [
        "plt.figure(figsize=(6,5))\n",
        "sns.barplot(x='furnishingstatus',y='price',data=data,color='blue')\n",
        "plt.title('furnishingstatus vs price')\n",
        "plt.show()"
      ],
      "metadata": {
        "id": "N3RURyb24suK"
      },
      "execution_count": null,
      "outputs": []
    },
    {
      "cell_type": "code",
      "source": [
        "plt.figure(figsize=(6,5))\n",
        "sns.barplot(x='mainroad',y='price',data=data,color='pink')\n",
        "plt.title('mainroad vs price')\n",
        "plt.show()"
      ],
      "metadata": {
        "id": "zcX879gI4-fU"
      },
      "execution_count": null,
      "outputs": []
    },
    {
      "cell_type": "code",
      "source": [
        "plt.figure(figsize=(6,5))\n",
        "sns.barplot(x='guestroom',y='price',data=data,color='green')\n",
        "plt.title('guestroom vs price')\n",
        "plt.show()"
      ],
      "metadata": {
        "id": "dsZ9z-H15LSy"
      },
      "execution_count": null,
      "outputs": []
    },
    {
      "cell_type": "code",
      "source": [
        "plt.figure(figsize=(6,5))\n",
        "sns.barplot(x='basement',y='price',data=data,color='yellow')\n",
        "plt.title('basement vs price')\n",
        "plt.show()"
      ],
      "metadata": {
        "id": "PBQhWSeK5RQD"
      },
      "execution_count": null,
      "outputs": []
    },
    {
      "cell_type": "code",
      "source": [
        "plt.figure(figsize=(6,5))\n",
        "sns.barplot(x='bedrooms',y='area',data=data,color='blue')\n",
        "plt.title('bedrooms vs area')\n",
        "plt.show()"
      ],
      "metadata": {
        "id": "JEgsNWdo6Oab"
      },
      "execution_count": null,
      "outputs": []
    },
    {
      "cell_type": "code",
      "source": [
        "plt.figure(figsize=((6,7)))\n",
        "sns.histplot(data['price'], bins = 20, color = 'brown', kde = True)\n",
        "plt.show()"
      ],
      "metadata": {
        "id": "ue0Ii8pg5V1o"
      },
      "execution_count": null,
      "outputs": []
    },
    {
      "cell_type": "code",
      "source": [
        "plt.figure(figsize=((6,7)))\n",
        "sns.histplot(data['area'], bins = 20, color = 'orange', kde = True)\n",
        "plt.show()\n"
      ],
      "metadata": {
        "id": "sO0W79tj5ccu"
      },
      "execution_count": null,
      "outputs": []
    },
    {
      "cell_type": "code",
      "source": [
        "sns.pairplot(data[['price', 'area', 'bedrooms', 'bathrooms', 'stories', 'parking']])\n",
        "plt.show()"
      ],
      "metadata": {
        "id": "DH6V_QCj6hzs"
      },
      "execution_count": null,
      "outputs": []
    },
    {
      "cell_type": "code",
      "source": [
        "plt.figure(figsize=(12,12))\n",
        "sns.heatmap(df,annot=True,cmap='coolwarm')\n",
        "plt.show()"
      ],
      "metadata": {
        "id": "EcvyJTfP8CzU"
      },
      "execution_count": null,
      "outputs": []
    },
    {
      "cell_type": "code",
      "source": [
        "data.hist(figsize=(10,10),bins=20,color='pink',grid='False')\n",
        "plt.show()"
      ],
      "metadata": {
        "id": "OeGQtjLA9q5K"
      },
      "execution_count": null,
      "outputs": []
    },
    {
      "cell_type": "code",
      "source": [
        "x = df.drop('price',axis=1)\n",
        "\n",
        "y = df['price']"
      ],
      "metadata": {
        "id": "cPry_HmxdfOJ"
      },
      "execution_count": null,
      "outputs": []
    },
    {
      "cell_type": "code",
      "source": [
        "y"
      ],
      "metadata": {
        "id": "p3gsrPFfefZX"
      },
      "execution_count": null,
      "outputs": []
    },
    {
      "cell_type": "code",
      "source": [
        "from sklearn.model_selection import train_test_split\n"
      ],
      "metadata": {
        "id": "ISpmAzdmevN3"
      },
      "execution_count": null,
      "outputs": []
    },
    {
      "cell_type": "code",
      "source": [
        "x_train, x_test, y_train, y_test = train_test_split(x,y,test_size=0.3,random_state=42)"
      ],
      "metadata": {
        "id": "V13fmknse-Xz"
      },
      "execution_count": null,
      "outputs": []
    },
    {
      "cell_type": "code",
      "source": [
        "from sklearn.linear_model import LinearRegression"
      ],
      "metadata": {
        "id": "Lv-JmO8NfByX"
      },
      "execution_count": null,
      "outputs": []
    },
    {
      "cell_type": "code",
      "source": [
        "lr=LinearRegression()\n",
        "lr.fit(x_train,y_train)"
      ],
      "metadata": {
        "id": "AMvFM0RJhyM2"
      },
      "execution_count": null,
      "outputs": []
    },
    {
      "cell_type": "code",
      "source": [
        "y_pred=lr.predict(x_test)"
      ],
      "metadata": {
        "id": "B2W7o7P7h2ug"
      },
      "execution_count": null,
      "outputs": []
    },
    {
      "cell_type": "code",
      "source": [
        "from sklearn.metrics import r2_score"
      ],
      "metadata": {
        "id": "J14W_qwrjBjt"
      },
      "execution_count": null,
      "outputs": []
    },
    {
      "cell_type": "code",
      "source": [
        "lr_accuracy= r2_score(y_test,y_pred)*100\n",
        "lr_accuracy"
      ],
      "metadata": {
        "id": "wmcaGs8AjPNo"
      },
      "execution_count": null,
      "outputs": []
    },
    {
      "cell_type": "code",
      "source": [
        "from sklearn.metrics import accuracy_score, confusion_matrix, classification_report\n",
        "\n",
        "# Accuracy\n",
        "lr_accuracy = accuracy_score(y_test, y_pred) * 100\n",
        "print(\"Accuracy:\", lr_accuracy)\n",
        "\n",
        "# Confusion Matrix\n",
        "print(\"Confusion Matrix:\\n\", confusion_matrix(y_test, y_pred))\n",
        "\n",
        "# Detailed precision, recall, f1-score\n",
        "print(\"Classification Report:\\n\", classification_report(y_test, y_pred))\n"
      ],
      "metadata": {
        "id": "f4Mp3Q_Bjaub"
      },
      "execution_count": null,
      "outputs": []
    },
    {
      "cell_type": "code",
      "source": [
        "!git clone https://github.com/yoga-pasumani/House-Prediction.git\n",
        "%cd House-Prediction\n"
      ],
      "metadata": {
        "id": "GpiwL35JjqIk"
      },
      "execution_count": null,
      "outputs": []
    },
    {
      "cell_type": "code",
      "source": [
        "!git clone https://github.com/yoga-pasumani/House-Prediction.git\n",
        "%cd House-Prediction\n"
      ],
      "metadata": {
        "id": "XIdc6vDt0K9Y"
      },
      "execution_count": null,
      "outputs": []
    },
    {
      "cell_type": "code",
      "source": [
        "from google.colab import drive\n",
        "drive.mount('/content/drive')\n"
      ],
      "metadata": {
        "id": "M4Br_Gqp0O81"
      },
      "execution_count": null,
      "outputs": []
    },
    {
      "cell_type": "code",
      "source": [],
      "metadata": {
        "id": "aZrBh8Qc0SeO"
      },
      "execution_count": null,
      "outputs": []
    }
  ]
}